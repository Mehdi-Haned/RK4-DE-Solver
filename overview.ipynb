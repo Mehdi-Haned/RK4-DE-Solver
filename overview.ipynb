{
 "cells": [
  {
   "cell_type": "code",
   "execution_count": 94,
   "metadata": {},
   "outputs": [
    {
     "data": {
      "text/plain": [
       "[<matplotlib.lines.Line2D at 0x1f65a02c1f0>]"
      ]
     },
     "execution_count": 94,
     "metadata": {},
     "output_type": "execute_result"
    },
    {
     "data": {
      "image/png": "[encoded data removed]",
      "text/plain": [
       "<Figure size 432x288 with 2 Axes>"
      ]
     },
     "metadata": {
      "needs_background": "light"
     },
     "output_type": "display_data"
    }
   ],
   "source": [
    "## Example of the code versus the Scipy Solver\n",
    "\n",
    "import numpy as np\n",
    "import matplotlib.pyplot as plt\n",
    "from scipy.integrate import odeint\n",
    "\n",
    "tmin, tmax, dt = 0, 10, 0.01\n",
    "\n",
    "# parametreters of the system.\n",
    "om = 2*np.pi\n",
    "om_0 = 1.5*om\n",
    "b = om_0 * 0.25\n",
    "gamma = 1.073\n",
    "\n",
    "# Note: see RK4.py for a slightly different way on using parameters. here they are passed into the actual DE solver\n",
    "# and system function as parameters which is slightly more complicated but can be useful\n",
    "# in certain situations like making bifurcation diagrams\n",
    "\n",
    "#Consider the driven damped pendulum for this example\n",
    "def f(L, t, om, om_0, b, g):\n",
    "    \"\"\"\n",
    "    System of differential equations you want to solve.\n",
    "    t is your time series array you want to solve on\n",
    "    L is the list containing all of your variables\n",
    "\n",
    "    om, om_0, b, g are parameters of the system\n",
    "\n",
    "    returns a list of functions with the i'th function corresponding to \n",
    "    the derivative of the ith variable\n",
    "    \"\"\"\n",
    "    x1, x2 = L\n",
    "    dxdt = [x2, -2*b*x2 - (om_0**2)*np.sin(x1) + g*(om_0**2)*np.cos(om*t)]\n",
    "    return dxdt\n",
    "\n",
    "ics = [0, 1] #initial conditions for x1 and x2 respectively\n",
    "\n",
    "t = np.arange(tmin, tmax, dt) #time range we are solving on\n",
    "\n",
    "def RK4(f, ic, time, om, om_0, b, g):\n",
    "    \"\"\"\n",
    "    takes a list of functions f, a list of initial conditions ic, and\n",
    "    a numpy array for all the times you want solutions on\n",
    "\n",
    "    if n is how many variables you have, and there are t* time points\n",
    "    the then output will be a (t*, n) sized numpy array where every row\n",
    "    is the solution at the corresponding time\n",
    "\n",
    "    om, om_0, b, and g\n",
    "    are all parameters of the system so they must be included.\n",
    "    \"\"\"\n",
    "    n = len(ic)\n",
    "    dt = (tmax - tmin)/len(time) #timestep; here so that you only need to input the time array\n",
    "    ans = []\n",
    "    L = ic\n",
    "    for t in time:\n",
    "        ans.append(L)\n",
    "        k1 = [dt * xi for xi in f(L, t, om, om_0, b, g)]\n",
    "        k2 = list(map(lambda x: dt*x, f([L[i] + 0.5*k1[i] for i in range(n)], t+0.5*dt, om, om_0, b, g)))\n",
    "        k3 = list(map(lambda x: dt*x, f([L[i] + 0.5*k2[i] for i in range(n)], t+0.5*dt, om, om_0, b, g)))\n",
    "        k4 = list(map(lambda x: dt*x, f([L[i] + k3[i] for i in range(n)], t+dt, om, om_0, b, g)))\n",
    "        L = [L[i] + 1/6 * (k1[i] + 2*k2[i] + 2*k3[i] + k4[i]) for i in range(n)]\n",
    "    \n",
    "    return np.array(ans, dtype=\"float\") #Turning everything into a numpy array\n",
    "\n",
    "data = RK4(f, ics, t, om, om_0, b, gamma) # our solution shall be called \"data\"\n",
    "\n",
    "sol = odeint(f, ics, t, args=(om, om_0, b, gamma)) #Same system is solved using the odeint funtion from scipy.integrate\n",
    "\n",
    "fig, axs = plt.subplots(2)\n",
    "\n",
    "axs[0].plot(t, sol[:,0])  #x1 with scipy\n",
    "axs[0].plot(t, data[:,0]) #x1 with my code\n",
    "\n",
    "axs[1].plot(t, sol[:,1])  #x2 with scipy\n",
    "axs[1].plot(t, data[:,1]) #x2 with my code\n",
    "\n",
    "# My solution and Scipy's solution are overlayed to easily spot any large deviencies\n",
    "# Notice: This is a chaotic system so things *will* janky if you satrt varying parameters\n",
    "# Espescially gamma"
   ]
  },
  {
   "cell_type": "code",
   "execution_count": 97,
   "metadata": {},
   "outputs": [
    {
     "name": "stdout",
     "output_type": "stream",
     "text": [
      "True\n",
      "0.386\n"
     ]
    }
   ],
   "source": [
    "#Checking the error of our solution vs scipy\n",
    "\n",
    "toll = 1e-4 # Maximum tollerance\n",
    "err = abs(sol-data) # define the error array\n",
    "\n",
    "print((err>toll).any()) #checks if the are any values in err that are larger than the max tolerance\n",
    "\n",
    "#If you see true, that means that the is atleast one value whose error is larger than toll\n",
    "#otherwise, you will get false\n",
    "\n",
    "#percentage of values where the error is above toll for *either* x1 and x2 \n",
    "print(np.size(err[err>toll])/np.size(err)) "
   ]
  },
  {
   "cell_type": "code",
   "execution_count": 99,
   "metadata": {},
   "outputs": [
    {
     "name": "stdout",
     "output_type": "stream",
     "text": [
      "First 10 times where the error in x1 is larger than toll:\n",
      "[7.24 7.25 7.26 7.27 7.28 7.29 7.3  7.31 7.32 7.33]\n",
      "Number of times times where the error in x1 is larger than toll and the percentage:\n",
      "275 0.275\n",
      "\n",
      "First 10 times where the error in x2 is larger than toll:\n",
      "[1.77 1.78 1.79 1.8  1.81 1.82 1.83 1.84 1.85 1.86]\n",
      "Number of times times where the error in x2 is larger than toll and the percentage:\n",
      "497 0.497\n",
      "\n",
      "First 10 instances where err is larger than toll in either x1 or x2:\n",
      "[0.00010131 0.00010748 0.0001136  0.00011958 0.00012532 0.0001307\n",
      " 0.0001356  0.00013991 0.00014351 0.00014628]\n",
      "\n",
      "Last 10 instances where err is larger than toll in either x1 or x2:\n",
      "[0.01955348 0.13283096 0.02092156 0.1407094  0.02236587 0.14801854\n",
      " 0.02387889 0.15437538 0.02544877 0.15930274]\n"
     ]
    }
   ],
   "source": [
    "#Error part two\n",
    "\n",
    "print(\"First 10 times where the error in x1 is larger than toll:\")\n",
    "print(t[(err>toll)[:,0].flatten()][:10])\n",
    "print(\"Number of times times where the error in x1 is larger than toll and the percentage:\")\n",
    "print(np.size(t[(err>toll)[:,0].flatten()]), np.size(t[(err>toll)[:,0].flatten()])/np.size(t))\n",
    "print(\"\")\n",
    "print(\"First 10 times where the error in x2 is larger than toll:\")\n",
    "print(t[(err>toll)[:,1].flatten()][:10])\n",
    "print(\"Number of times times where the error in x2 is larger than toll and the percentage:\")\n",
    "print(np.size(t[(err>toll)[:,1].flatten()]), np.size(t[(err>toll)[:,1].flatten()])/np.size(t))\n",
    "print(\"\")\n",
    "print(\"First 10 instances where err is larger than toll in either x1 or x2:\")\n",
    "print(err[err>toll][:10])\n",
    "print(\"\")\n",
    "print(\"Last 10 instances where err is larger than toll in either x1 or x2:\")\n",
    "print(err[err>toll][-10:])"
   ]
  }
 ],
 "metadata": {
  "kernelspec": {
   "display_name": "Python 3",
   "language": "python",
   "name": "python3"
  },
  "language_info": {
   "codemirror_mode": {
    "name": "ipython",
    "version": 3
   },
   "file_extension": ".py",
   "mimetype": "text/x-python",
   "name": "python",
   "nbconvert_exporter": "python",
   "pygments_lexer": "ipython3",
   "version": "3.10.5"
  },
  "orig_nbformat": 4,
  "vscode": {
   "interpreter": {
    "hash": "0b13404339fe8f42e7a88593f4905e3fae8d9da9bf23356d0322e70a2e1ef6e0"
   }
  }
 },
 "nbformat": 4,
 "nbformat_minor": 2
}
